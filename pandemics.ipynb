{
 "cells": [
  {
   "cell_type": "code",
   "execution_count": 11,
   "metadata": {},
   "outputs": [],
   "source": [
    "import pandas as pd\n",
    "import numpy\n",
    "import matplotlib.pyplot as plt\n",
    "\n",
    "from splinter import Browser\n",
    "from bs4 import BeautifulSoup"
   ]
  },
  {
   "cell_type": "code",
   "execution_count": 2,
   "metadata": {},
   "outputs": [],
   "source": [
    "# print(tables.to_json(orient='records', date_format=\n",
    "#                     'iso'))"
   ]
  },
  {
   "cell_type": "code",
   "execution_count": 3,
   "metadata": {
    "scrolled": true
   },
   "outputs": [
    {
     "data": {
      "text/html": [
       "<div>\n",
       "<style scoped>\n",
       "    .dataframe tbody tr th:only-of-type {\n",
       "        vertical-align: middle;\n",
       "    }\n",
       "\n",
       "    .dataframe tbody tr th {\n",
       "        vertical-align: top;\n",
       "    }\n",
       "\n",
       "    .dataframe thead th {\n",
       "        text-align: right;\n",
       "    }\n",
       "</style>\n",
       "<table border=\"1\" class=\"dataframe\">\n",
       "  <thead>\n",
       "    <tr style=\"text-align: right;\">\n",
       "      <th></th>\n",
       "      <th>Death toll (estimate)</th>\n",
       "      <th>Location</th>\n",
       "      <th>Date</th>\n",
       "      <th>Event</th>\n",
       "      <th>Disease</th>\n",
       "      <th>Ref.</th>\n",
       "    </tr>\n",
       "  </thead>\n",
       "  <tbody>\n",
       "    <tr>\n",
       "      <th>0</th>\n",
       "      <td>&gt; 400</td>\n",
       "      <td>Nigeria</td>\n",
       "      <td>2001</td>\n",
       "      <td>NaN</td>\n",
       "      <td>Cholera</td>\n",
       "      <td>[103]</td>\n",
       "    </tr>\n",
       "    <tr>\n",
       "      <th>1</th>\n",
       "      <td>NaN</td>\n",
       "      <td>South Africa</td>\n",
       "      <td>2001</td>\n",
       "      <td>NaN</td>\n",
       "      <td>Cholera</td>\n",
       "      <td>[104]</td>\n",
       "    </tr>\n",
       "    <tr>\n",
       "      <th>2</th>\n",
       "      <td>349</td>\n",
       "      <td>China</td>\n",
       "      <td>2002–2004</td>\n",
       "      <td>SARS outbreak</td>\n",
       "      <td>SARS coronavirus</td>\n",
       "      <td>[105]</td>\n",
       "    </tr>\n",
       "    <tr>\n",
       "      <th>3</th>\n",
       "      <td>299</td>\n",
       "      <td>Hong Kong</td>\n",
       "      <td>2002–2004</td>\n",
       "      <td>SARS outbreak</td>\n",
       "      <td>SARS coronavirus</td>\n",
       "      <td>[106]</td>\n",
       "    </tr>\n",
       "    <tr>\n",
       "      <th>4</th>\n",
       "      <td>37</td>\n",
       "      <td>Taiwan</td>\n",
       "      <td>2002–2004</td>\n",
       "      <td>SARS outbreak</td>\n",
       "      <td>SARS coronavirus</td>\n",
       "      <td>[107]</td>\n",
       "    </tr>\n",
       "    <tr>\n",
       "      <th>...</th>\n",
       "      <td>...</td>\n",
       "      <td>...</td>\n",
       "      <td>...</td>\n",
       "      <td>...</td>\n",
       "      <td>...</td>\n",
       "      <td>...</td>\n",
       "    </tr>\n",
       "    <tr>\n",
       "      <th>61</th>\n",
       "      <td>18 (as of February 2020</td>\n",
       "      <td>India</td>\n",
       "      <td>2018</td>\n",
       "      <td>2018 Nipah virus outbreak in Kerala</td>\n",
       "      <td>Nipah virus infection</td>\n",
       "      <td>[173]</td>\n",
       "    </tr>\n",
       "    <tr>\n",
       "      <th>62</th>\n",
       "      <td>2,253 (as of 20 February 2020</td>\n",
       "      <td>Democratic Republic of the Congo &amp; Uganda</td>\n",
       "      <td>August 2018–present</td>\n",
       "      <td>2018–19 Kivu Ebola epidemic</td>\n",
       "      <td>Ebola virus disease</td>\n",
       "      <td>[174][175]</td>\n",
       "    </tr>\n",
       "    <tr>\n",
       "      <th>63</th>\n",
       "      <td>&gt;6,000 (by January 2019)</td>\n",
       "      <td>Democratic Republic of the Congo</td>\n",
       "      <td>2019–present</td>\n",
       "      <td>2019 measles outbreak in the Democratic Republ...</td>\n",
       "      <td>Measles</td>\n",
       "      <td>[176]</td>\n",
       "    </tr>\n",
       "    <tr>\n",
       "      <th>64</th>\n",
       "      <td>83</td>\n",
       "      <td>Samoa</td>\n",
       "      <td>2019–present</td>\n",
       "      <td>2019 Samoa measles outbreak</td>\n",
       "      <td>Measles</td>\n",
       "      <td>[177]</td>\n",
       "    </tr>\n",
       "    <tr>\n",
       "      <th>65</th>\n",
       "      <td>3,594 (as of 8 March 2020</td>\n",
       "      <td>Worldwide</td>\n",
       "      <td>2019–present</td>\n",
       "      <td>2019–20 coronavirus outbreak</td>\n",
       "      <td>COVID-19</td>\n",
       "      <td>[178][179] [180]</td>\n",
       "    </tr>\n",
       "  </tbody>\n",
       "</table>\n",
       "<p>66 rows × 6 columns</p>\n",
       "</div>"
      ],
      "text/plain": [
       "            Death toll (estimate)                                   Location  \\\n",
       "0                           > 400                                    Nigeria   \n",
       "1                             NaN                               South Africa   \n",
       "2                             349                                      China   \n",
       "3                             299                                  Hong Kong   \n",
       "4                              37                                     Taiwan   \n",
       "..                            ...                                        ...   \n",
       "61        18 (as of February 2020                                      India   \n",
       "62  2,253 (as of 20 February 2020  Democratic Republic of the Congo & Uganda   \n",
       "63       >6,000 (by January 2019)           Democratic Republic of the Congo   \n",
       "64                             83                                      Samoa   \n",
       "65      3,594 (as of 8 March 2020                                  Worldwide   \n",
       "\n",
       "                   Date                                              Event  \\\n",
       "0                  2001                                                NaN   \n",
       "1                  2001                                                NaN   \n",
       "2             2002–2004                                      SARS outbreak   \n",
       "3             2002–2004                                      SARS outbreak   \n",
       "4             2002–2004                                      SARS outbreak   \n",
       "..                  ...                                                ...   \n",
       "61                 2018                2018 Nipah virus outbreak in Kerala   \n",
       "62  August 2018–present                        2018–19 Kivu Ebola epidemic   \n",
       "63         2019–present  2019 measles outbreak in the Democratic Republ...   \n",
       "64         2019–present                        2019 Samoa measles outbreak   \n",
       "65         2019–present                       2019–20 coronavirus outbreak   \n",
       "\n",
       "                  Disease              Ref.  \n",
       "0                 Cholera             [103]  \n",
       "1                 Cholera             [104]  \n",
       "2        SARS coronavirus             [105]  \n",
       "3        SARS coronavirus             [106]  \n",
       "4        SARS coronavirus             [107]  \n",
       "..                    ...               ...  \n",
       "61  Nipah virus infection             [173]  \n",
       "62    Ebola virus disease        [174][175]  \n",
       "63                Measles             [176]  \n",
       "64                Measles             [177]  \n",
       "65               COVID-19  [178][179] [180]  \n",
       "\n",
       "[66 rows x 6 columns]"
      ]
     },
     "execution_count": 3,
     "metadata": {},
     "output_type": "execute_result"
    }
   ],
   "source": [
    "tables = pd.read_html('https://en.wikipedia.org/wiki/List_of_epidemics')\n",
    "\n",
    "epidemic_df = pd.DataFrame(tables[6])\n",
    "#epidemic_df.to_csv(\"test.csv\", index=False)\n",
    "epidemic_df"
   ]
  },
  {
   "cell_type": "code",
   "execution_count": 4,
   "metadata": {
    "scrolled": true
   },
   "outputs": [],
   "source": [
    "#del epidemic_df[\"Ref.\",\"Death toll (estimate)\", \"Event\"]\n",
    "#epidemic_df_clean = epidemic_df.set_index('Location')\n"
   ]
  },
  {
   "cell_type": "code",
   "execution_count": 5,
   "metadata": {},
   "outputs": [
    {
     "data": {
      "text/plain": [
       "Death toll (estimate)    42\n",
       "Location                 66\n",
       "Date                     66\n",
       "Event                    35\n",
       "Disease                  66\n",
       "Ref.                     65\n",
       "dtype: int64"
      ]
     },
     "execution_count": 5,
     "metadata": {},
     "output_type": "execute_result"
    }
   ],
   "source": [
    "epidemic_df.count()"
   ]
  },
  {
   "cell_type": "code",
   "execution_count": 6,
   "metadata": {},
   "outputs": [],
   "source": [
    "del epidemic_df['Death toll (estimate)']\n",
    "del epidemic_df['Event']\n",
    "del epidemic_df['Ref.']"
   ]
  },
  {
   "cell_type": "code",
   "execution_count": 7,
   "metadata": {},
   "outputs": [
    {
     "data": {
      "text/html": [
       "<div>\n",
       "<style scoped>\n",
       "    .dataframe tbody tr th:only-of-type {\n",
       "        vertical-align: middle;\n",
       "    }\n",
       "\n",
       "    .dataframe tbody tr th {\n",
       "        vertical-align: top;\n",
       "    }\n",
       "\n",
       "    .dataframe thead th {\n",
       "        text-align: right;\n",
       "    }\n",
       "</style>\n",
       "<table border=\"1\" class=\"dataframe\">\n",
       "  <thead>\n",
       "    <tr style=\"text-align: right;\">\n",
       "      <th></th>\n",
       "      <th>Location</th>\n",
       "      <th>Date</th>\n",
       "      <th>Disease</th>\n",
       "    </tr>\n",
       "  </thead>\n",
       "  <tbody>\n",
       "    <tr>\n",
       "      <th>0</th>\n",
       "      <td>Nigeria</td>\n",
       "      <td>2001</td>\n",
       "      <td>Cholera</td>\n",
       "    </tr>\n",
       "    <tr>\n",
       "      <th>1</th>\n",
       "      <td>South Africa</td>\n",
       "      <td>2001</td>\n",
       "      <td>Cholera</td>\n",
       "    </tr>\n",
       "    <tr>\n",
       "      <th>2</th>\n",
       "      <td>China</td>\n",
       "      <td>2002–2004</td>\n",
       "      <td>SARS coronavirus</td>\n",
       "    </tr>\n",
       "    <tr>\n",
       "      <th>3</th>\n",
       "      <td>Hong Kong</td>\n",
       "      <td>2002–2004</td>\n",
       "      <td>SARS coronavirus</td>\n",
       "    </tr>\n",
       "    <tr>\n",
       "      <th>4</th>\n",
       "      <td>Taiwan</td>\n",
       "      <td>2002–2004</td>\n",
       "      <td>SARS coronavirus</td>\n",
       "    </tr>\n",
       "    <tr>\n",
       "      <th>...</th>\n",
       "      <td>...</td>\n",
       "      <td>...</td>\n",
       "      <td>...</td>\n",
       "    </tr>\n",
       "    <tr>\n",
       "      <th>61</th>\n",
       "      <td>India</td>\n",
       "      <td>2018</td>\n",
       "      <td>Nipah virus infection</td>\n",
       "    </tr>\n",
       "    <tr>\n",
       "      <th>62</th>\n",
       "      <td>Democratic Republic of the Congo &amp; Uganda</td>\n",
       "      <td>August 2018–present</td>\n",
       "      <td>Ebola virus disease</td>\n",
       "    </tr>\n",
       "    <tr>\n",
       "      <th>63</th>\n",
       "      <td>Democratic Republic of the Congo</td>\n",
       "      <td>2019–present</td>\n",
       "      <td>Measles</td>\n",
       "    </tr>\n",
       "    <tr>\n",
       "      <th>64</th>\n",
       "      <td>Samoa</td>\n",
       "      <td>2019–present</td>\n",
       "      <td>Measles</td>\n",
       "    </tr>\n",
       "    <tr>\n",
       "      <th>65</th>\n",
       "      <td>Worldwide</td>\n",
       "      <td>2019–present</td>\n",
       "      <td>COVID-19</td>\n",
       "    </tr>\n",
       "  </tbody>\n",
       "</table>\n",
       "<p>66 rows × 3 columns</p>\n",
       "</div>"
      ],
      "text/plain": [
       "                                     Location                 Date  \\\n",
       "0                                     Nigeria                 2001   \n",
       "1                                South Africa                 2001   \n",
       "2                                       China            2002–2004   \n",
       "3                                   Hong Kong            2002–2004   \n",
       "4                                      Taiwan            2002–2004   \n",
       "..                                        ...                  ...   \n",
       "61                                      India                 2018   \n",
       "62  Democratic Republic of the Congo & Uganda  August 2018–present   \n",
       "63           Democratic Republic of the Congo         2019–present   \n",
       "64                                      Samoa         2019–present   \n",
       "65                                  Worldwide         2019–present   \n",
       "\n",
       "                  Disease  \n",
       "0                 Cholera  \n",
       "1                 Cholera  \n",
       "2        SARS coronavirus  \n",
       "3        SARS coronavirus  \n",
       "4        SARS coronavirus  \n",
       "..                    ...  \n",
       "61  Nipah virus infection  \n",
       "62    Ebola virus disease  \n",
       "63                Measles  \n",
       "64                Measles  \n",
       "65               COVID-19  \n",
       "\n",
       "[66 rows x 3 columns]"
      ]
     },
     "execution_count": 7,
     "metadata": {},
     "output_type": "execute_result"
    }
   ],
   "source": [
    "epidemic_df"
   ]
  },
  {
   "cell_type": "code",
   "execution_count": 10,
   "metadata": {},
   "outputs": [],
   "source": [
    "#epidemic_df_clean = epidemic_df.set_index()\n",
    "epidemic_df.to_csv(\"test.csv\", index=False)"
   ]
  },
  {
   "cell_type": "code",
   "execution_count": 18,
   "metadata": {},
   "outputs": [],
   "source": [
    "date = epidemic_df[\"Date\"]\n",
    "disease = epidemic_df[\"Location\"]"
   ]
  },
  {
   "cell_type": "code",
   "execution_count": 19,
   "metadata": {},
   "outputs": [],
   "source": [
    "x_axis = date\n",
    "y_axis = disease"
   ]
  },
  {
   "cell_type": "code",
   "execution_count": 20,
   "metadata": {},
   "outputs": [
    {
     "data": {
      "text/plain": [
       "<matplotlib.collections.PathCollection at 0x244fc00f780>"
      ]
     },
     "execution_count": 20,
     "metadata": {},
     "output_type": "execute_result"
    },
    {
     "data": {
      "image/png": "[encoded data removed]",
      "text/plain": [
       "<Figure size 432x288 with 1 Axes>"
      ]
     },
     "metadata": {
      "needs_background": "light"
     },
     "output_type": "display_data"
    }
   ],
   "source": [
    "plt.scatter(x_axis, y_axis, marker='o', facecolors='blue')"
   ]
  },
  {
   "cell_type": "code",
   "execution_count": 23,
   "metadata": {},
   "outputs": [
    {
     "data": {
      "text/plain": [
       "0                                       Nigeria\n",
       "1                                  South Africa\n",
       "2                                         China\n",
       "3                                     Hong Kong\n",
       "4                                        Taiwan\n",
       "                        ...                    \n",
       "61                                        India\n",
       "62    Democratic Republic of the Congo & Uganda\n",
       "63             Democratic Republic of the Congo\n",
       "64                                        Samoa\n",
       "65                                    Worldwide\n",
       "Name: Location, Length: 66, dtype: object"
      ]
     },
     "execution_count": 23,
     "metadata": {},
     "output_type": "execute_result"
    }
   ],
   "source": [
    "epidemic_df['Location']"
   ]
  },
  {
   "cell_type": "code",
   "execution_count": null,
   "metadata": {},
   "outputs": [],
   "source": []
  }
 ],
 "metadata": {
  "kernelspec": {
   "display_name": "Python 3",
   "language": "python",
   "name": "python3"
  },
  "language_info": {
   "codemirror_mode": {
    "name": "ipython",
    "version": 3
   },
   "file_extension": ".py",
   "mimetype": "text/x-python",
   "name": "python",
   "nbconvert_exporter": "python",
   "pygments_lexer": "ipython3",
   "version": "3.6.9"
  }
 },
 "nbformat": 4,
 "nbformat_minor": 4
}
